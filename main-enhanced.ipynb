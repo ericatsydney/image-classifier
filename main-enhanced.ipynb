{
 "cells": [
  {
   "cell_type": "markdown",
   "metadata": {},
   "source": [
    "# 3rd model to train image classifier\n",
    "> using Keras and Tensorflow\n",
    "\n",
    "**Import the libraries and prepare the dataset.**"
   ]
  },
  {
   "cell_type": "code",
   "execution_count": 63,
   "metadata": {},
   "outputs": [
    {
     "name": "stdout",
     "output_type": "stream",
     "text": [
      "1.11.0\n"
     ]
    }
   ],
   "source": [
    "from __future__ import absolute_import, division, print_function\n",
    "\n",
    "# TensorFlow and tf.keras\n",
    "import tensorflow as tf\n",
    "from tensorflow import keras\n",
    "\n",
    "# Helper libraries\n",
    "import numpy as np\n",
    "import matplotlib.pyplot as plt\n",
    "import random\n",
    "# from keras.layers import Conv2D, MaxPooling2D\n",
    "# from keras.layers import Activation, Dropout, Flatten, Dense\n",
    "\n",
    "print(tf.__version__)\n",
    "image_size = 80"
   ]
  },
  {
   "cell_type": "code",
   "execution_count": 64,
   "metadata": {},
   "outputs": [],
   "source": [
    "import os \n",
    "from tensorflow.keras.preprocessing import image\n",
    " \n",
    "import pathlib\n",
    "def getImagePaths(rootPath):\n",
    "  data_root = pathlib.Path(rootPath)\n",
    "  image_paths = list(data_root.glob('*/*'))\n",
    "  image_paths = [str(path) for path in image_paths if not str(path).endswith('DS_Store')]\n",
    "  random.shuffle(image_paths)\n",
    "  return image_paths\n",
    "\n",
    "#image resize -> PIL -> tensorflow \n",
    "def preprocess_image(image):\n",
    "  image = tf.image.decode_jpeg(image, channels=1)\n",
    "  image = tf.image.resize_images(image, [image_size, image_size])\n",
    "  image /= 255.0  # normalize to [0,1] range\n",
    "  return image\n",
    "\n",
    "def load_and_preprocess_image(path):\n",
    "  image = tf.read_file(path)\n",
    "  return preprocess_image(image)\n"
   ]
  },
  {
   "cell_type": "code",
   "execution_count": 65,
   "metadata": {},
   "outputs": [
    {
     "name": "stdout",
     "output_type": "stream",
     "text": [
      "['barramundi', 'bream', 'snapper']\n",
      "{'barramundi': 0, 'snapper': 2, 'bream': 1}\n"
     ]
    },
    {
     "data": {
      "text/plain": [
       "TensorShape([Dimension(98), Dimension(80), Dimension(80), Dimension(1)])"
      ]
     },
     "execution_count": 65,
     "metadata": {},
     "output_type": "execute_result"
    }
   ],
   "source": [
    "# Prepare the train Dataset\n",
    "all_image_paths = getImagePaths('./data/train/')\n",
    "data_root = pathlib.Path('./data/train/')\n",
    "label_names = sorted(item.name for item in data_root.glob('*/') if item.is_dir())\n",
    "print(label_names)\n",
    "label_to_index = dict((name, index) for index,name in enumerate(label_names))\n",
    "print(label_to_index)\n",
    "\n",
    "all_image_labels = [label_to_index[pathlib.Path(path).parent.name] for path in all_image_paths]\n",
    "number_of_images = len(all_image_labels)\n",
    "all_image_array = []\n",
    "for image_path in all_image_paths:\n",
    "  all_image_array.append(load_and_preprocess_image(image_path))\n",
    "\n",
    "all_image_tensor = tf.convert_to_tensor(all_image_array, dtype=tf.float32)\n",
    "train_dataset_reshape = tf.reshape(all_image_tensor, [number_of_images, image_size, image_size, 1])\n",
    "train_dataset_reshape.shape"
   ]
  },
  {
   "cell_type": "code",
   "execution_count": 66,
   "metadata": {},
   "outputs": [],
   "source": [
    "# image_path = all_image_paths[1]\n",
    "# print(image_path)\n",
    "# x = load_and_preprocess_image(image_path)\n",
    "# x.shape\n",
    "# plt.imshow(load_and_preprocess_image(image_path))\n",
    "# plt.grid(False)\n",
    "# plt.show()"
   ]
  },
  {
   "cell_type": "markdown",
   "metadata": {},
   "source": [
    "**Setup the model and train it**"
   ]
  },
  {
   "cell_type": "code",
   "execution_count": 67,
   "metadata": {},
   "outputs": [],
   "source": [
    "# model = keras.Sequential([\n",
    "#     keras.layers.Flatten(input_shape=(image_size, image_size, 1)),\n",
    "#     keras.layers.Dense(64, activation=tf.nn.relu),\n",
    "#     keras.layers.Dense(3, activation=tf.nn.softmax)\n",
    "# ])\n",
    "\n",
    "# layer1\n",
    "model = keras.Sequential()\n",
    "model.add(keras.layers.Conv2D(32, (3, 3), input_shape=(image_size, image_size, 1)))\n",
    "model.add(keras.layers.Activation('relu'))\n",
    "model.add(keras.layers.MaxPooling2D(pool_size=(2, 2)))\n",
    "#layer2\n",
    "model.add(keras.layers.Conv2D(64, (3, 3)))\n",
    "model.add(keras.layers.Activation('relu'))\n",
    "model.add(keras.layers.MaxPooling2D(pool_size=(3, 3)))\n",
    "#layer3\n",
    "model.add(keras.layers.Flatten())\n",
    "model.add(keras.layers.Dense(64))\n",
    "model.add(keras.layers.Activation('relu'))\n",
    "model.add(keras.layers.Dropout(0.5))\n",
    "#layer4\n",
    "model.add(keras.layers.Dense(3))\n",
    "model.add(keras.layers.Activation('sigmoid'))"
   ]
  },
  {
   "cell_type": "code",
   "execution_count": 68,
   "metadata": {},
   "outputs": [],
   "source": [
    "model.compile(optimizer='adam', \n",
    "              loss='sparse_categorical_crossentropy',\n",
    "              metrics=['accuracy'])"
   ]
  },
  {
   "cell_type": "code",
   "execution_count": 69,
   "metadata": {},
   "outputs": [
    {
     "name": "stdout",
     "output_type": "stream",
     "text": [
      "Epoch 1/100\n",
      "1/1 [==============================] - 2s 2s/step - loss: 1.1111 - acc: 0.2755\n",
      "Epoch 2/100\n",
      "1/1 [==============================] - 1s 695ms/step - loss: 1.0330 - acc: 0.5204\n",
      "Epoch 3/100\n",
      "1/1 [==============================] - 1s 903ms/step - loss: 1.0715 - acc: 0.5102\n",
      "Epoch 4/100\n",
      "1/1 [==============================] - 1s 892ms/step - loss: 1.0438 - acc: 0.5204\n",
      "Epoch 5/100\n",
      "1/1 [==============================] - 1s 692ms/step - loss: 1.0378 - acc: 0.5204\n",
      "Epoch 6/100\n",
      "1/1 [==============================] - 1s 654ms/step - loss: 1.0325 - acc: 0.5204\n",
      "Epoch 7/100\n",
      "1/1 [==============================] - 1s 662ms/step - loss: 1.0365 - acc: 0.5204\n",
      "Epoch 8/100\n",
      "1/1 [==============================] - 1s 666ms/step - loss: 1.0460 - acc: 0.5000\n",
      "Epoch 9/100\n",
      "1/1 [==============================] - 1s 839ms/step - loss: 1.0115 - acc: 0.5306\n",
      "Epoch 10/100\n",
      "1/1 [==============================] - 1s 685ms/step - loss: 1.0373 - acc: 0.5306\n",
      "Epoch 11/100\n",
      "1/1 [==============================] - 1s 680ms/step - loss: 1.0408 - acc: 0.5204\n",
      "Epoch 12/100\n",
      "1/1 [==============================] - 1s 681ms/step - loss: 1.0038 - acc: 0.5306\n",
      "Epoch 13/100\n",
      "1/1 [==============================] - 1s 670ms/step - loss: 1.0030 - acc: 0.5306\n",
      "Epoch 14/100\n",
      "1/1 [==============================] - 1s 660ms/step - loss: 0.9966 - acc: 0.5204\n",
      "Epoch 15/100\n",
      "1/1 [==============================] - 1s 674ms/step - loss: 1.0086 - acc: 0.5306\n",
      "Epoch 16/100\n",
      "1/1 [==============================] - 1s 667ms/step - loss: 0.9863 - acc: 0.5102\n",
      "Epoch 17/100\n",
      "1/1 [==============================] - 1s 654ms/step - loss: 0.9701 - acc: 0.5204\n",
      "Epoch 18/100\n",
      "1/1 [==============================] - 1s 677ms/step - loss: 0.9571 - acc: 0.5306\n",
      "Epoch 19/100\n",
      "1/1 [==============================] - 1s 684ms/step - loss: 0.9876 - acc: 0.5204\n",
      "Epoch 20/100\n",
      "1/1 [==============================] - 1s 858ms/step - loss: 0.9860 - acc: 0.5306\n",
      "Epoch 21/100\n",
      "1/1 [==============================] - 1s 767ms/step - loss: 0.9530 - acc: 0.5102\n",
      "Epoch 22/100\n",
      "1/1 [==============================] - 1s 683ms/step - loss: 0.9445 - acc: 0.5306\n",
      "Epoch 23/100\n",
      "1/1 [==============================] - 1s 658ms/step - loss: 0.9185 - acc: 0.5204\n",
      "Epoch 24/100\n",
      "1/1 [==============================] - 1s 660ms/step - loss: 0.9374 - acc: 0.5204\n",
      "Epoch 25/100\n",
      "1/1 [==============================] - 1s 661ms/step - loss: 0.8947 - acc: 0.5306\n",
      "Epoch 26/100\n",
      "1/1 [==============================] - 1s 762ms/step - loss: 0.9097 - acc: 0.5306\n",
      "Epoch 27/100\n",
      "1/1 [==============================] - 1s 678ms/step - loss: 0.8979 - acc: 0.5306\n",
      "Epoch 28/100\n",
      "1/1 [==============================] - 1s 665ms/step - loss: 0.9082 - acc: 0.5204\n",
      "Epoch 29/100\n",
      "1/1 [==============================] - 1s 657ms/step - loss: 0.8985 - acc: 0.5306\n",
      "Epoch 30/100\n",
      "1/1 [==============================] - 1s 671ms/step - loss: 0.8651 - acc: 0.5306\n",
      "Epoch 31/100\n",
      "1/1 [==============================] - 1s 679ms/step - loss: 0.8662 - acc: 0.5510\n",
      "Epoch 32/100\n",
      "1/1 [==============================] - 1s 664ms/step - loss: 0.8432 - acc: 0.5408\n",
      "Epoch 33/100\n",
      "1/1 [==============================] - 1s 662ms/step - loss: 0.8119 - acc: 0.5510\n",
      "Epoch 34/100\n",
      "1/1 [==============================] - 1s 792ms/step - loss: 0.8056 - acc: 0.5510\n",
      "Epoch 35/100\n",
      "1/1 [==============================] - 1s 697ms/step - loss: 0.8053 - acc: 0.5306\n",
      "Epoch 36/100\n",
      "1/1 [==============================] - 1s 683ms/step - loss: 0.7855 - acc: 0.5816\n",
      "Epoch 37/100\n",
      "1/1 [==============================] - 1s 673ms/step - loss: 0.7569 - acc: 0.5612\n",
      "Epoch 38/100\n",
      "1/1 [==============================] - 1s 678ms/step - loss: 0.7520 - acc: 0.6122\n",
      "Epoch 39/100\n",
      "1/1 [==============================] - 1s 674ms/step - loss: 0.7058 - acc: 0.6633\n",
      "Epoch 40/100\n",
      "1/1 [==============================] - 1s 664ms/step - loss: 0.7004 - acc: 0.6327\n",
      "Epoch 41/100\n",
      "1/1 [==============================] - 1s 675ms/step - loss: 0.6878 - acc: 0.6429\n",
      "Epoch 42/100\n",
      "1/1 [==============================] - 1s 661ms/step - loss: 0.7149 - acc: 0.6327\n",
      "Epoch 43/100\n",
      "1/1 [==============================] - 1s 683ms/step - loss: 0.6743 - acc: 0.6327\n",
      "Epoch 44/100\n",
      "1/1 [==============================] - 1s 757ms/step - loss: 0.7015 - acc: 0.6020\n",
      "Epoch 45/100\n",
      "1/1 [==============================] - 1s 810ms/step - loss: 0.6987 - acc: 0.6429\n",
      "Epoch 46/100\n",
      "1/1 [==============================] - 1s 687ms/step - loss: 0.6427 - acc: 0.7449\n",
      "Epoch 47/100\n",
      "1/1 [==============================] - 1s 676ms/step - loss: 0.6779 - acc: 0.6735\n",
      "Epoch 48/100\n",
      "1/1 [==============================] - 1s 673ms/step - loss: 0.6556 - acc: 0.7041\n",
      "Epoch 49/100\n",
      "1/1 [==============================] - 1s 669ms/step - loss: 0.6358 - acc: 0.6837\n",
      "Epoch 50/100\n",
      "1/1 [==============================] - 1s 681ms/step - loss: 0.6244 - acc: 0.6735\n",
      "Epoch 51/100\n",
      "1/1 [==============================] - 1s 688ms/step - loss: 0.6483 - acc: 0.6735\n",
      "Epoch 52/100\n",
      "1/1 [==============================] - 1s 686ms/step - loss: 0.5856 - acc: 0.7143\n",
      "Epoch 53/100\n",
      "1/1 [==============================] - 1s 679ms/step - loss: 0.6579 - acc: 0.6939\n",
      "Epoch 54/100\n",
      "1/1 [==============================] - 1s 704ms/step - loss: 0.6370 - acc: 0.7347\n",
      "Epoch 55/100\n",
      "1/1 [==============================] - 1s 954ms/step - loss: 0.5775 - acc: 0.7551\n",
      "Epoch 56/100\n",
      "1/1 [==============================] - 1s 822ms/step - loss: 0.5817 - acc: 0.7347\n",
      "Epoch 57/100\n",
      "1/1 [==============================] - 1s 744ms/step - loss: 0.6190 - acc: 0.6633\n",
      "Epoch 58/100\n",
      "1/1 [==============================] - 1s 776ms/step - loss: 0.6262 - acc: 0.6429\n",
      "Epoch 59/100\n",
      "1/1 [==============================] - 1s 749ms/step - loss: 0.5350 - acc: 0.7653\n",
      "Epoch 60/100\n",
      "1/1 [==============================] - 1s 740ms/step - loss: 0.5543 - acc: 0.7755\n",
      "Epoch 61/100\n",
      "1/1 [==============================] - 1s 717ms/step - loss: 0.5634 - acc: 0.7959\n",
      "Epoch 62/100\n",
      "1/1 [==============================] - 1s 735ms/step - loss: 0.5379 - acc: 0.7449\n",
      "Epoch 63/100\n",
      "1/1 [==============================] - 1s 735ms/step - loss: 0.4770 - acc: 0.7653\n",
      "Epoch 64/100\n",
      "1/1 [==============================] - 1s 718ms/step - loss: 0.5415 - acc: 0.7449\n",
      "Epoch 65/100\n",
      "1/1 [==============================] - 1s 677ms/step - loss: 0.5150 - acc: 0.7449\n",
      "Epoch 66/100\n",
      "1/1 [==============================] - 1s 677ms/step - loss: 0.5275 - acc: 0.7755\n",
      "Epoch 67/100\n",
      "1/1 [==============================] - 1s 727ms/step - loss: 0.4869 - acc: 0.8061\n",
      "Epoch 68/100\n",
      "1/1 [==============================] - 1s 701ms/step - loss: 0.4712 - acc: 0.8265\n",
      "Epoch 69/100\n",
      "1/1 [==============================] - 1s 727ms/step - loss: 0.4446 - acc: 0.8061\n",
      "Epoch 70/100\n",
      "1/1 [==============================] - 1s 704ms/step - loss: 0.4765 - acc: 0.8163\n",
      "Epoch 71/100\n",
      "1/1 [==============================] - 1s 734ms/step - loss: 0.4638 - acc: 0.8571\n",
      "Epoch 72/100\n",
      "1/1 [==============================] - 1s 718ms/step - loss: 0.4732 - acc: 0.7347\n",
      "Epoch 73/100\n",
      "1/1 [==============================] - 1s 702ms/step - loss: 0.4813 - acc: 0.7653\n",
      "Epoch 74/100\n",
      "1/1 [==============================] - 1s 720ms/step - loss: 0.4620 - acc: 0.7857\n",
      "Epoch 75/100\n",
      "1/1 [==============================] - 1s 714ms/step - loss: 0.4226 - acc: 0.8367\n",
      "Epoch 76/100\n",
      "1/1 [==============================] - 1s 762ms/step - loss: 0.4305 - acc: 0.8469\n",
      "Epoch 77/100\n",
      "1/1 [==============================] - 1s 723ms/step - loss: 0.4376 - acc: 0.8265\n",
      "Epoch 78/100\n",
      "1/1 [==============================] - 1s 717ms/step - loss: 0.4655 - acc: 0.8265\n",
      "Epoch 79/100\n",
      "1/1 [==============================] - 1s 720ms/step - loss: 0.3827 - acc: 0.8673\n",
      "Epoch 80/100\n",
      "1/1 [==============================] - 1s 724ms/step - loss: 0.4207 - acc: 0.8367\n",
      "Epoch 81/100\n",
      "1/1 [==============================] - 1s 713ms/step - loss: 0.4136 - acc: 0.8367\n",
      "Epoch 82/100\n",
      "1/1 [==============================] - 1s 727ms/step - loss: 0.4015 - acc: 0.8776\n",
      "Epoch 83/100\n",
      "1/1 [==============================] - 1s 719ms/step - loss: 0.3999 - acc: 0.8265\n",
      "Epoch 84/100\n",
      "1/1 [==============================] - 1s 720ms/step - loss: 0.4172 - acc: 0.8265\n",
      "Epoch 85/100\n",
      "1/1 [==============================] - 1s 710ms/step - loss: 0.3487 - acc: 0.8673\n",
      "Epoch 86/100\n",
      "1/1 [==============================] - 1s 718ms/step - loss: 0.3319 - acc: 0.8776\n",
      "Epoch 87/100\n",
      "1/1 [==============================] - 1s 719ms/step - loss: 0.3279 - acc: 0.8980\n"
     ]
    },
    {
     "name": "stdout",
     "output_type": "stream",
     "text": [
      "Epoch 88/100\n",
      "1/1 [==============================] - 1s 724ms/step - loss: 0.3582 - acc: 0.9286\n",
      "Epoch 89/100\n",
      "1/1 [==============================] - 1s 710ms/step - loss: 0.3581 - acc: 0.8980\n",
      "Epoch 90/100\n",
      "1/1 [==============================] - 1s 709ms/step - loss: 0.3712 - acc: 0.8469\n",
      "Epoch 91/100\n",
      "1/1 [==============================] - 1s 729ms/step - loss: 0.3364 - acc: 0.8469\n",
      "Epoch 92/100\n",
      "1/1 [==============================] - 1s 736ms/step - loss: 0.3577 - acc: 0.8571\n",
      "Epoch 93/100\n",
      "1/1 [==============================] - 1s 743ms/step - loss: 0.3475 - acc: 0.8776\n",
      "Epoch 94/100\n",
      "1/1 [==============================] - 1s 709ms/step - loss: 0.3583 - acc: 0.8163\n",
      "Epoch 95/100\n",
      "1/1 [==============================] - 1s 702ms/step - loss: 0.3522 - acc: 0.8776\n",
      "Epoch 96/100\n",
      "1/1 [==============================] - 1s 744ms/step - loss: 0.2732 - acc: 0.9184\n",
      "Epoch 97/100\n",
      "1/1 [==============================] - 1s 761ms/step - loss: 0.2689 - acc: 0.9184\n",
      "Epoch 98/100\n",
      "1/1 [==============================] - 1s 954ms/step - loss: 0.2996 - acc: 0.9286\n",
      "Epoch 99/100\n",
      "1/1 [==============================] - 1s 905ms/step - loss: 0.3194 - acc: 0.8673\n",
      "Epoch 100/100\n",
      "1/1 [==============================] - 1s 749ms/step - loss: 0.3179 - acc: 0.8878\n"
     ]
    },
    {
     "data": {
      "text/plain": [
       "<tensorflow.python.keras.callbacks.History at 0x12a39a210>"
      ]
     },
     "execution_count": 69,
     "metadata": {},
     "output_type": "execute_result"
    }
   ],
   "source": [
    "model.fit(train_dataset_reshape, all_image_labels, epochs=100, steps_per_epoch=1)"
   ]
  },
  {
   "cell_type": "markdown",
   "metadata": {},
   "source": [
    "Test the model and make use of that."
   ]
  },
  {
   "cell_type": "code",
   "execution_count": 70,
   "metadata": {},
   "outputs": [
    {
     "name": "stdout",
     "output_type": "stream",
     "text": [
      "1/1 [==============================] - 1s 1s/step\n",
      "Test accuracy: 0.9591836929321289\n"
     ]
    }
   ],
   "source": [
    "test_loss, test_acc = model.evaluate(train_dataset_reshape, all_image_labels, steps=1)\n",
    "print('Test accuracy:', test_acc)"
   ]
  },
  {
   "cell_type": "code",
   "execution_count": 71,
   "metadata": {},
   "outputs": [
    {
     "name": "stdout",
     "output_type": "stream",
     "text": [
      "data/test/snapper/mutton-snapper-750x400.jpg\n",
      "data/test/barramundi/barramundi-fish.jpg\n",
      "data/test/snapper/snapper.jpg\n",
      "data/test/bream/BREAM-BLACK-1-940x528.jpg\n",
      "data/test/bream/bluegill-bream.jpeg\n",
      "data/test/bream/bream_bl_aa.jpg\n",
      "data/test/snapper/pg-25-thai-snapper-480x201-1.jpg\n"
     ]
    },
    {
     "data": {
      "text/plain": [
       "TensorShape([Dimension(7), Dimension(80), Dimension(80), Dimension(1)])"
      ]
     },
     "execution_count": 71,
     "metadata": {},
     "output_type": "execute_result"
    }
   ],
   "source": [
    "# Prepare the prediction Dataset\n",
    "all_predict_paths = getImagePaths('./data/test/')\n",
    "all_predict_labels = [label_to_index[pathlib.Path(path).parent.name] for path in all_predict_paths]\n",
    "number_of_predict = len(all_predict_labels)\n",
    "all_predict_array = []\n",
    "for predict_path in all_predict_paths:\n",
    "  print(predict_path)\n",
    "  all_predict_array.append(load_and_preprocess_image(predict_path))\n",
    "\n",
    "all_predict_tensor = tf.convert_to_tensor(all_predict_array, dtype=tf.float32)\n",
    "predict_dataset_reshape = tf.reshape(all_predict_tensor, [number_of_predict, image_size, image_size, 1])\n",
    "predict_dataset_reshape.shape"
   ]
  },
  {
   "cell_type": "code",
   "execution_count": 72,
   "metadata": {},
   "outputs": [
    {
     "name": "stdout",
     "output_type": "stream",
     "text": [
      "2, 0, 2, 1, 2, 1, 2, \n",
      "[2, 0, 2, 1, 1, 1, 2]\n"
     ]
    }
   ],
   "source": [
    "predictions = model.predict(predict_dataset_reshape, steps=1)\n",
    "for item in predictions:\n",
    "  print(np.argmax(item), end=', ')\n",
    "print()\n",
    "print(all_predict_labels)"
   ]
  },
  {
   "cell_type": "code",
   "execution_count": null,
   "metadata": {},
   "outputs": [],
   "source": []
  }
 ],
 "metadata": {
  "kernelspec": {
   "display_name": "Python 2",
   "language": "python",
   "name": "python2"
  },
  "language_info": {
   "codemirror_mode": {
    "name": "ipython",
    "version": 2
   },
   "file_extension": ".py",
   "mimetype": "text/x-python",
   "name": "python",
   "nbconvert_exporter": "python",
   "pygments_lexer": "ipython2",
   "version": "2.7.10"
  }
 },
 "nbformat": 4,
 "nbformat_minor": 2
}
