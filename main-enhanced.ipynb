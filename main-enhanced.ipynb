{
 "cells": [
  {
   "cell_type": "markdown",
   "metadata": {},
   "source": [
    "# 3rd model to train image classifier\n",
    "> using Keras and Tensorflow\n",
    "\n",
    "**Import the libraries and prepare the dataset.**"
   ]
  },
  {
   "cell_type": "code",
   "execution_count": 121,
   "metadata": {},
   "outputs": [
    {
     "name": "stdout",
     "output_type": "stream",
     "text": [
      "1.11.0\n"
     ]
    }
   ],
   "source": [
    "from __future__ import absolute_import, division, print_function\n",
    "\n",
    "# TensorFlow and tf.keras\n",
    "import tensorflow as tf\n",
    "from tensorflow import keras\n",
    "\n",
    "# Helper libraries\n",
    "import numpy as np\n",
    "import matplotlib.pyplot as plt\n",
    "import random\n",
    "\n",
    "print(tf.__version__)"
   ]
  },
  {
   "cell_type": "code",
   "execution_count": 122,
   "metadata": {},
   "outputs": [],
   "source": [
    "import os \n",
    "from tensorflow.keras.preprocessing import image\n",
    " \n",
    "import pathlib\n",
    "def getImagePaths(rootPath):\n",
    "  data_root = pathlib.Path('./data/train/')\n",
    "  image_paths = list(data_root.glob('*/*'))\n",
    "  image_paths = [str(path) for path in image_paths if not str(path).endswith('DS_Store')]\n",
    "  random.shuffle(image_paths)\n",
    "  return image_paths\n",
    "\n",
    "#image resize -> PIL -> tensorflow \n",
    "def preprocess_image(image):\n",
    "  image = tf.image.decode_jpeg(image, channels=1)\n",
    "  image = tf.image.resize_images(image, [128, 128])\n",
    "  image /= 255.0  # normalize to [0,1] range\n",
    "  return image\n",
    "\n",
    "def load_and_preprocess_image(path):\n",
    "  image = tf.read_file(path)\n",
    "  return preprocess_image(image)\n"
   ]
  },
  {
   "cell_type": "code",
   "execution_count": 123,
   "metadata": {},
   "outputs": [
    {
     "name": "stdout",
     "output_type": "stream",
     "text": [
      "['barramundi', 'bream', 'snapper']\n",
      "{'barramundi': 0, 'snapper': 2, 'bream': 1}\n"
     ]
    },
    {
     "data": {
      "text/plain": [
       "TensorShape([Dimension(36), Dimension(128), Dimension(128), Dimension(1)])"
      ]
     },
     "execution_count": 123,
     "metadata": {},
     "output_type": "execute_result"
    }
   ],
   "source": [
    "# Prepare the train Dataset\n",
    "all_image_paths = getImagePaths('./data/train/')\n",
    "label_names = sorted(item.name for item in data_root.glob('*/') if item.is_dir())\n",
    "print(label_names)\n",
    "label_to_index = dict((name, index) for index,name in enumerate(label_names))\n",
    "print(label_to_index)\n",
    "\n",
    "all_image_labels = [label_to_index[pathlib.Path(path).parent.name] for path in all_image_paths]\n",
    "number_of_images = len(all_image_labels)\n",
    "all_image_array = []\n",
    "for image_path in all_image_paths:\n",
    "  all_image_array.append(load_and_preprocess_image(image_path))\n",
    "\n",
    "all_image_tensor = tf.convert_to_tensor(all_image_array, dtype=tf.float32)\n",
    "train_dataset_reshape = tf.reshape(all_image_tensor, [number_of_images, 128, 128, 1])\n",
    "train_dataset_reshape.shape\n",
    "\n",
    "# Prepare the prediction Dataset\n",
    "all_predict_paths = getImagePaths('./data/test/')\n",
    "all_predict_labels = [label_to_index[pathlib.Path(path).parent.name] for path in all_predict_paths]\n",
    "number_of_predict = len(all_predict_labels)\n",
    "all_predict_array = []\n",
    "for image_path in all_image_paths:\n",
    "  all_image_array.append(load_and_preprocess_image(image_path))\n",
    "\n",
    "all_image_tensor = tf.convert_to_tensor(all_image_array, dtype=tf.float32)\n",
    "train_dataset_reshape = tf.reshape(all_image_tensor, [number_of_images, 128, 128, 1])\n",
    "train_dataset_reshape.shape\n"
   ]
  },
  {
   "cell_type": "code",
   "execution_count": 124,
   "metadata": {},
   "outputs": [],
   "source": [
    "# image_path = all_image_paths[1]\n",
    "# print(image_path)\n",
    "# x = load_and_preprocess_image(image_path)\n",
    "# x.shape\n",
    "# plt.imshow(load_and_preprocess_image(image_path))\n",
    "# plt.grid(False)\n",
    "# plt.show()"
   ]
  },
  {
   "cell_type": "markdown",
   "metadata": {},
   "source": [
    "**Setup the model and train it**"
   ]
  },
  {
   "cell_type": "code",
   "execution_count": 125,
   "metadata": {},
   "outputs": [],
   "source": [
    "model = keras.Sequential([\n",
    "    keras.layers.Flatten(input_shape=(128, 128, 1)),\n",
    "    keras.layers.Dense(64, activation=tf.nn.relu),\n",
    "    keras.layers.Dense(3, activation=tf.nn.softmax)\n",
    "])"
   ]
  },
  {
   "cell_type": "code",
   "execution_count": 126,
   "metadata": {},
   "outputs": [],
   "source": [
    "model.compile(optimizer='adam', \n",
    "              loss='sparse_categorical_crossentropy',\n",
    "              metrics=['accuracy'])"
   ]
  },
  {
   "cell_type": "code",
   "execution_count": 127,
   "metadata": {},
   "outputs": [
    {
     "name": "stdout",
     "output_type": "stream",
     "text": [
      "Epoch 1/50\n",
      "1/1 [==============================] - 1s 1s/step - loss: 1.7024 - acc: 0.3889\n",
      "Epoch 2/50\n",
      "1/1 [==============================] - 0s 13ms/step - loss: 9.9046 - acc: 0.3056\n",
      "Epoch 3/50\n",
      "1/1 [==============================] - 0s 12ms/step - loss: 10.2352 - acc: 0.3056\n",
      "Epoch 4/50\n",
      "1/1 [==============================] - 0s 17ms/step - loss: 10.6078 - acc: 0.3056\n",
      "Epoch 5/50\n",
      "1/1 [==============================] - 0s 14ms/step - loss: 10.5893 - acc: 0.3056\n",
      "Epoch 6/50\n",
      "1/1 [==============================] - 0s 11ms/step - loss: 10.4386 - acc: 0.3056\n",
      "Epoch 7/50\n",
      "1/1 [==============================] - 0s 16ms/step - loss: 10.2431 - acc: 0.3333\n",
      "Epoch 8/50\n",
      "1/1 [==============================] - 0s 16ms/step - loss: 10.0743 - acc: 0.3333\n",
      "Epoch 9/50\n",
      "1/1 [==============================] - 0s 17ms/step - loss: 9.7728 - acc: 0.3333\n",
      "Epoch 10/50\n",
      "1/1 [==============================] - 0s 15ms/step - loss: 9.0071 - acc: 0.3889\n",
      "Epoch 11/50\n",
      "1/1 [==============================] - 0s 12ms/step - loss: 6.5742 - acc: 0.3611\n",
      "Epoch 12/50\n",
      "1/1 [==============================] - 0s 10ms/step - loss: 9.2055 - acc: 0.3333\n",
      "Epoch 13/50\n",
      "1/1 [==============================] - 0s 11ms/step - loss: 7.9724 - acc: 0.3333\n",
      "Epoch 14/50\n",
      "1/1 [==============================] - 0s 10ms/step - loss: 2.9259 - acc: 0.5556\n",
      "Epoch 15/50\n",
      "1/1 [==============================] - 0s 14ms/step - loss: 6.0011 - acc: 0.4444\n",
      "Epoch 16/50\n",
      "1/1 [==============================] - 0s 11ms/step - loss: 6.8304 - acc: 0.4167\n",
      "Epoch 17/50\n",
      "1/1 [==============================] - 0s 9ms/step - loss: 6.5049 - acc: 0.4167\n",
      "Epoch 18/50\n",
      "1/1 [==============================] - 0s 12ms/step - loss: 6.3980 - acc: 0.4722\n",
      "Epoch 19/50\n",
      "1/1 [==============================] - 0s 11ms/step - loss: 6.3416 - acc: 0.5000\n",
      "Epoch 20/50\n",
      "1/1 [==============================] - 0s 14ms/step - loss: 5.8888 - acc: 0.4722\n",
      "Epoch 21/50\n",
      "1/1 [==============================] - 0s 12ms/step - loss: 5.9427 - acc: 0.4167\n",
      "Epoch 22/50\n",
      "1/1 [==============================] - 0s 10ms/step - loss: 5.4867 - acc: 0.4722\n",
      "Epoch 23/50\n",
      "1/1 [==============================] - 0s 13ms/step - loss: 5.5081 - acc: 0.5278\n",
      "Epoch 24/50\n",
      "1/1 [==============================] - 0s 11ms/step - loss: 5.3363 - acc: 0.5833\n",
      "Epoch 25/50\n",
      "1/1 [==============================] - 0s 9ms/step - loss: 5.2455 - acc: 0.5833\n",
      "Epoch 26/50\n",
      "1/1 [==============================] - 0s 11ms/step - loss: 5.3192 - acc: 0.6111\n",
      "Epoch 27/50\n",
      "1/1 [==============================] - 0s 14ms/step - loss: 5.1748 - acc: 0.6111\n",
      "Epoch 28/50\n",
      "1/1 [==============================] - 0s 11ms/step - loss: 5.2336 - acc: 0.5278\n",
      "Epoch 29/50\n",
      "1/1 [==============================] - 0s 14ms/step - loss: 5.2282 - acc: 0.5278\n",
      "Epoch 30/50\n",
      "1/1 [==============================] - 0s 12ms/step - loss: 5.1378 - acc: 0.6111\n",
      "Epoch 31/50\n",
      "1/1 [==============================] - 0s 9ms/step - loss: 5.2035 - acc: 0.6111\n",
      "Epoch 32/50\n",
      "1/1 [==============================] - 0s 12ms/step - loss: 5.1230 - acc: 0.6389\n",
      "Epoch 33/50\n",
      "1/1 [==============================] - 0s 11ms/step - loss: 5.0975 - acc: 0.6111\n",
      "Epoch 34/50\n",
      "1/1 [==============================] - 0s 14ms/step - loss: 5.1054 - acc: 0.6389\n",
      "Epoch 35/50\n",
      "1/1 [==============================] - 0s 10ms/step - loss: 5.0144 - acc: 0.6667\n",
      "Epoch 36/50\n",
      "1/1 [==============================] - 0s 14ms/step - loss: 5.0473 - acc: 0.6111\n",
      "Epoch 37/50\n",
      "1/1 [==============================] - 0s 11ms/step - loss: 4.9971 - acc: 0.6944\n",
      "Epoch 38/50\n",
      "1/1 [==============================] - 0s 13ms/step - loss: 4.9793 - acc: 0.6667\n",
      "Epoch 39/50\n",
      "1/1 [==============================] - 0s 11ms/step - loss: 4.9967 - acc: 0.6667\n",
      "Epoch 40/50\n",
      "1/1 [==============================] - 0s 12ms/step - loss: 4.9640 - acc: 0.6944\n",
      "Epoch 41/50\n",
      "1/1 [==============================] - 0s 9ms/step - loss: 4.9640 - acc: 0.6944\n",
      "Epoch 42/50\n",
      "1/1 [==============================] - 0s 13ms/step - loss: 4.9756 - acc: 0.6944\n",
      "Epoch 43/50\n",
      "1/1 [==============================] - 0s 9ms/step - loss: 4.9585 - acc: 0.6944\n",
      "Epoch 44/50\n",
      "1/1 [==============================] - 0s 15ms/step - loss: 4.9540 - acc: 0.6944\n",
      "Epoch 45/50\n",
      "1/1 [==============================] - 0s 9ms/step - loss: 4.9637 - acc: 0.6944\n",
      "Epoch 46/50\n",
      "1/1 [==============================] - 0s 13ms/step - loss: 4.9603 - acc: 0.6944\n",
      "Epoch 47/50\n",
      "1/1 [==============================] - 0s 12ms/step - loss: 4.9509 - acc: 0.6944\n",
      "Epoch 48/50\n",
      "1/1 [==============================] - 0s 8ms/step - loss: 4.9526 - acc: 0.6944\n",
      "Epoch 49/50\n",
      "1/1 [==============================] - 0s 14ms/step - loss: 4.9578 - acc: 0.6944\n",
      "Epoch 50/50\n",
      "1/1 [==============================] - 0s 9ms/step - loss: 4.9515 - acc: 0.6944\n"
     ]
    },
    {
     "data": {
      "text/plain": [
       "<tensorflow.python.keras.callbacks.History at 0x13e6c9cd0>"
      ]
     },
     "execution_count": 127,
     "metadata": {},
     "output_type": "execute_result"
    }
   ],
   "source": [
    "model.fit(train_dataset_reshape, all_image_labels, epochs=50, steps_per_epoch=1)"
   ]
  },
  {
   "cell_type": "markdown",
   "metadata": {},
   "source": [
    "Test the model and make use of that."
   ]
  },
  {
   "cell_type": "code",
   "execution_count": 128,
   "metadata": {},
   "outputs": [
    {
     "name": "stdout",
     "output_type": "stream",
     "text": [
      "1/1 [==============================] - 1s 573ms/step\n",
      "Test accuracy: 0.6944444179534912\n"
     ]
    }
   ],
   "source": [
    "test_loss, test_acc = model.evaluate(train_dataset_reshape, all_image_labels, steps=1)\n",
    "print('Test accuracy:', test_acc)"
   ]
  },
  {
   "cell_type": "code",
   "execution_count": 129,
   "metadata": {},
   "outputs": [
    {
     "name": "stdout",
     "output_type": "stream",
     "text": [
      "1, 2, 2, 1, 2, 2, 2, 2, 2, 2, 1, 2, 2, 1, 2, 2, 2, 1, 1, 2, 1, 1, 2, 2, 1, 1, 1, 2, 2, 2, 1, 1, 2, 2, 2, 2, \n",
      "[1, 2, 2, 1, 0, 0, 2, 2, 2, 0, 1, 2, 2, 1, 2, 2, 0, 0, 1, 0, 1, 1, 2, 2, 1, 0, 1, 2, 0, 2, 1, 1, 2, 0, 0, 0]\n"
     ]
    }
   ],
   "source": [
    "predictions = model.predict(train_dataset_reshape, steps=1)\n",
    "for item in predictions:\n",
    "  print(np.argmax(item), end=', ')\n",
    "print()\n",
    "print(all_image_labels)"
   ]
  },
  {
   "cell_type": "code",
   "execution_count": null,
   "metadata": {},
   "outputs": [],
   "source": []
  }
 ],
 "metadata": {
  "kernelspec": {
   "display_name": "Python 2",
   "language": "python",
   "name": "python2"
  },
  "language_info": {
   "codemirror_mode": {
    "name": "ipython",
    "version": 2
   },
   "file_extension": ".py",
   "mimetype": "text/x-python",
   "name": "python",
   "nbconvert_exporter": "python",
   "pygments_lexer": "ipython2",
   "version": "2.7.10"
  }
 },
 "nbformat": 4,
 "nbformat_minor": 2
}
