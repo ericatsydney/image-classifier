{
 "cells": [
  {
   "cell_type": "markdown",
   "metadata": {},
   "source": [
    "# 3rd model to train image classifier\n",
    "> using Keras and Tensorflow\n",
    "\n",
    "**Import the libraries and prepare the dataset.**"
   ]
  },
  {
   "cell_type": "code",
   "execution_count": 121,
   "metadata": {},
   "outputs": [
    {
     "name": "stdout",
     "output_type": "stream",
     "text": [
      "1.11.0\n"
     ]
    }
   ],
   "source": [
    "from __future__ import absolute_import, division, print_function\n",
    "\n",
    "# TensorFlow and tf.keras\n",
    "import tensorflow as tf\n",
    "from tensorflow import keras\n",
    "\n",
    "# Helper libraries\n",
    "import numpy as np\n",
    "import matplotlib.pyplot as plt\n",
    "import random\n",
    "\n",
    "print(tf.__version__)"
   ]
  },
  {
   "cell_type": "code",
   "execution_count": 133,
   "metadata": {},
   "outputs": [],
   "source": [
    "import os \n",
    "from tensorflow.keras.preprocessing import image\n",
    " \n",
    "import pathlib\n",
    "def getImagePaths(rootPath):\n",
    "  data_root = pathlib.Path(rootPath)\n",
    "  image_paths = list(data_root.glob('*/*'))\n",
    "  image_paths = [str(path) for path in image_paths if not str(path).endswith('DS_Store')]\n",
    "  random.shuffle(image_paths)\n",
    "  return image_paths\n",
    "\n",
    "#image resize -> PIL -> tensorflow \n",
    "def preprocess_image(image):\n",
    "  image = tf.image.decode_jpeg(image, channels=1)\n",
    "  image = tf.image.resize_images(image, [128, 128])\n",
    "  image /= 255.0  # normalize to [0,1] range\n",
    "  return image\n",
    "\n",
    "def load_and_preprocess_image(path):\n",
    "  image = tf.read_file(path)\n",
    "  return preprocess_image(image)\n"
   ]
  },
  {
   "cell_type": "code",
   "execution_count": 135,
   "metadata": {},
   "outputs": [
    {
     "name": "stdout",
     "output_type": "stream",
     "text": [
      "['barramundi', 'bream', 'snapper']\n",
      "{'barramundi': 0, 'snapper': 2, 'bream': 1}\n",
      "1\n"
     ]
    }
   ],
   "source": [
    "# Prepare the train Dataset\n",
    "all_image_paths = getImagePaths('./data/train/')\n",
    "label_names = sorted(item.name for item in data_root.glob('*/') if item.is_dir())\n",
    "print(label_names)\n",
    "label_to_index = dict((name, index) for index,name in enumerate(label_names))\n",
    "print(label_to_index)\n",
    "\n",
    "all_image_labels = [label_to_index[pathlib.Path(path).parent.name] for path in all_image_paths]\n",
    "number_of_images = len(all_image_labels)\n",
    "all_image_array = []\n",
    "for image_path in all_image_paths:\n",
    "  all_image_array.append(load_and_preprocess_image(image_path))\n",
    "\n",
    "all_image_tensor = tf.convert_to_tensor(all_image_array, dtype=tf.float32)\n",
    "train_dataset_reshape = tf.reshape(all_image_tensor, [number_of_images, 128, 128, 1])\n",
    "train_dataset_reshape.shape\n",
    "\n",
    "# Prepare the prediction Dataset\n",
    "all_predict_paths = getImagePaths('./data/test/')\n",
    "all_predict_labels = [label_to_index[pathlib.Path(path).parent.name] for path in all_predict_paths]\n",
    "number_of_predict = len(all_predict_labels)\n",
    "all_predict_array = []\n",
    "for predict_path in all_predict_paths:\n",
    "  all_predict_array.append(load_and_preprocess_image(predict_path))\n",
    "\n",
    "all_predict_tensor = tf.convert_to_tensor(all_predict_array, dtype=tf.float32)\n",
    "predict_dataset_reshape = tf.reshape(all_predict_tensor, [number_of_predict, 128, 128, 1])\n",
    "predict_dataset_reshape.shape\n",
    "print(number_of_predict)"
   ]
  },
  {
   "cell_type": "code",
   "execution_count": 124,
   "metadata": {},
   "outputs": [],
   "source": [
    "# image_path = all_image_paths[1]\n",
    "# print(image_path)\n",
    "# x = load_and_preprocess_image(image_path)\n",
    "# x.shape\n",
    "# plt.imshow(load_and_preprocess_image(image_path))\n",
    "# plt.grid(False)\n",
    "# plt.show()"
   ]
  },
  {
   "cell_type": "markdown",
   "metadata": {},
   "source": [
    "**Setup the model and train it**"
   ]
  },
  {
   "cell_type": "code",
   "execution_count": 136,
   "metadata": {},
   "outputs": [],
   "source": [
    "model = keras.Sequential([\n",
    "    keras.layers.Flatten(input_shape=(128, 128, 1)),\n",
    "    keras.layers.Dense(64, activation=tf.nn.relu),\n",
    "    keras.layers.Dense(3, activation=tf.nn.softmax)\n",
    "])"
   ]
  },
  {
   "cell_type": "code",
   "execution_count": 137,
   "metadata": {},
   "outputs": [],
   "source": [
    "model.compile(optimizer='adam', \n",
    "              loss='sparse_categorical_crossentropy',\n",
    "              metrics=['accuracy'])"
   ]
  },
  {
   "cell_type": "code",
   "execution_count": 138,
   "metadata": {},
   "outputs": [
    {
     "name": "stdout",
     "output_type": "stream",
     "text": [
      "Epoch 1/50\n",
      "1/1 [==============================] - 2s 2s/step - loss: 1.5835 - acc: 0.3889\n",
      "Epoch 2/50\n",
      "1/1 [==============================] - 0s 13ms/step - loss: 8.7276 - acc: 0.3056\n",
      "Epoch 3/50\n",
      "1/1 [==============================] - 0s 15ms/step - loss: 3.1997 - acc: 0.3056\n",
      "Epoch 4/50\n",
      "1/1 [==============================] - 0s 16ms/step - loss: 1.8828 - acc: 0.3889\n",
      "Epoch 5/50\n",
      "1/1 [==============================] - 0s 17ms/step - loss: 1.4286 - acc: 0.4444\n",
      "Epoch 6/50\n",
      "1/1 [==============================] - 0s 18ms/step - loss: 0.9234 - acc: 0.4722\n",
      "Epoch 7/50\n",
      "1/1 [==============================] - 0s 17ms/step - loss: 1.0478 - acc: 0.5278\n",
      "Epoch 8/50\n",
      "1/1 [==============================] - 0s 14ms/step - loss: 0.8875 - acc: 0.4722\n",
      "Epoch 9/50\n",
      "1/1 [==============================] - 0s 16ms/step - loss: 1.0646 - acc: 0.4444\n",
      "Epoch 10/50\n",
      "1/1 [==============================] - 0s 16ms/step - loss: 0.7443 - acc: 0.7222\n",
      "Epoch 11/50\n",
      "1/1 [==============================] - 0s 14ms/step - loss: 0.8332 - acc: 0.5833\n",
      "Epoch 12/50\n",
      "1/1 [==============================] - 0s 9ms/step - loss: 0.7684 - acc: 0.5556\n",
      "Epoch 13/50\n",
      "1/1 [==============================] - 0s 20ms/step - loss: 0.6656 - acc: 0.8333\n",
      "Epoch 14/50\n",
      "1/1 [==============================] - 0s 9ms/step - loss: 0.7365 - acc: 0.6389\n",
      "Epoch 15/50\n",
      "1/1 [==============================] - 0s 16ms/step - loss: 0.5981 - acc: 0.8056\n",
      "Epoch 16/50\n",
      "1/1 [==============================] - 0s 10ms/step - loss: 0.6387 - acc: 0.6667\n",
      "Epoch 17/50\n",
      "1/1 [==============================] - 0s 11ms/step - loss: 0.5874 - acc: 0.7778\n",
      "Epoch 18/50\n",
      "1/1 [==============================] - 0s 11ms/step - loss: 0.5287 - acc: 0.8611\n",
      "Epoch 19/50\n",
      "1/1 [==============================] - 0s 11ms/step - loss: 0.5438 - acc: 0.8056\n",
      "Epoch 20/50\n",
      "1/1 [==============================] - 0s 15ms/step - loss: 0.4914 - acc: 0.8889\n",
      "Epoch 21/50\n",
      "1/1 [==============================] - 0s 9ms/step - loss: 0.4689 - acc: 0.8889\n",
      "Epoch 22/50\n",
      "1/1 [==============================] - 0s 9ms/step - loss: 0.4675 - acc: 0.8611\n",
      "Epoch 23/50\n",
      "1/1 [==============================] - 0s 11ms/step - loss: 0.4171 - acc: 0.9722\n",
      "Epoch 24/50\n",
      "1/1 [==============================] - 0s 11ms/step - loss: 0.4184 - acc: 0.9444\n",
      "Epoch 25/50\n",
      "1/1 [==============================] - 0s 15ms/step - loss: 0.3984 - acc: 0.9722\n",
      "Epoch 26/50\n",
      "1/1 [==============================] - 0s 12ms/step - loss: 0.3623 - acc: 0.9722\n",
      "Epoch 27/50\n",
      "1/1 [==============================] - 0s 18ms/step - loss: 0.3665 - acc: 0.8889\n",
      "Epoch 28/50\n",
      "1/1 [==============================] - 0s 14ms/step - loss: 0.3390 - acc: 0.9444\n",
      "Epoch 29/50\n",
      "1/1 [==============================] - 0s 11ms/step - loss: 0.3180 - acc: 1.0000\n",
      "Epoch 30/50\n",
      "1/1 [==============================] - 0s 12ms/step - loss: 0.3156 - acc: 1.0000\n",
      "Epoch 31/50\n",
      "1/1 [==============================] - 0s 12ms/step - loss: 0.2939 - acc: 1.0000\n",
      "Epoch 32/50\n",
      "1/1 [==============================] - 0s 14ms/step - loss: 0.2762 - acc: 1.0000\n",
      "Epoch 33/50\n",
      "1/1 [==============================] - 0s 9ms/step - loss: 0.2734 - acc: 0.9444\n",
      "Epoch 34/50\n",
      "1/1 [==============================] - 0s 11ms/step - loss: 0.2571 - acc: 0.9722\n",
      "Epoch 35/50\n",
      "1/1 [==============================] - 0s 11ms/step - loss: 0.2424 - acc: 1.0000\n",
      "Epoch 36/50\n",
      "1/1 [==============================] - 0s 11ms/step - loss: 0.2379 - acc: 1.0000\n",
      "Epoch 37/50\n",
      "1/1 [==============================] - 0s 11ms/step - loss: 0.2204 - acc: 1.0000\n",
      "Epoch 38/50\n",
      "1/1 [==============================] - 0s 11ms/step - loss: 0.2112 - acc: 1.0000\n",
      "Epoch 39/50\n",
      "1/1 [==============================] - 0s 10ms/step - loss: 0.2076 - acc: 1.0000\n",
      "Epoch 40/50\n",
      "1/1 [==============================] - 0s 11ms/step - loss: 0.1956 - acc: 1.0000\n",
      "Epoch 41/50\n",
      "1/1 [==============================] - 0s 9ms/step - loss: 0.1839 - acc: 1.0000\n",
      "Epoch 42/50\n",
      "1/1 [==============================] - 0s 13ms/step - loss: 0.1786 - acc: 1.0000\n",
      "Epoch 43/50\n",
      "1/1 [==============================] - 0s 11ms/step - loss: 0.1717 - acc: 1.0000\n",
      "Epoch 44/50\n",
      "1/1 [==============================] - 0s 9ms/step - loss: 0.1626 - acc: 1.0000\n",
      "Epoch 45/50\n",
      "1/1 [==============================] - 0s 13ms/step - loss: 0.1563 - acc: 1.0000\n",
      "Epoch 46/50\n",
      "1/1 [==============================] - 0s 9ms/step - loss: 0.1505 - acc: 1.0000\n",
      "Epoch 47/50\n",
      "1/1 [==============================] - 0s 10ms/step - loss: 0.1417 - acc: 1.0000\n",
      "Epoch 48/50\n",
      "1/1 [==============================] - 0s 13ms/step - loss: 0.1357 - acc: 1.0000\n",
      "Epoch 49/50\n",
      "1/1 [==============================] - 0s 11ms/step - loss: 0.1316 - acc: 1.0000\n",
      "Epoch 50/50\n",
      "1/1 [==============================] - 0s 12ms/step - loss: 0.1246 - acc: 1.0000\n"
     ]
    },
    {
     "data": {
      "text/plain": [
       "<tensorflow.python.keras.callbacks.History at 0x143b3e7d0>"
      ]
     },
     "execution_count": 138,
     "metadata": {},
     "output_type": "execute_result"
    }
   ],
   "source": [
    "model.fit(train_dataset_reshape, all_image_labels, epochs=50, steps_per_epoch=1)"
   ]
  },
  {
   "cell_type": "markdown",
   "metadata": {},
   "source": [
    "Test the model and make use of that."
   ]
  },
  {
   "cell_type": "code",
   "execution_count": 141,
   "metadata": {},
   "outputs": [
    {
     "name": "stdout",
     "output_type": "stream",
     "text": [
      "1/1 [==============================] - 0s 1ms/step\n",
      "Test accuracy: 1.0\n"
     ]
    }
   ],
   "source": [
    "test_loss, test_acc = model.evaluate(predict_dataset_reshape, all_predict_labels, steps=1)\n",
    "print('Test accuracy:', test_acc)"
   ]
  },
  {
   "cell_type": "code",
   "execution_count": 129,
   "metadata": {},
   "outputs": [
    {
     "name": "stdout",
     "output_type": "stream",
     "text": [
      "1, 2, 2, 1, 2, 2, 2, 2, 2, 2, 1, 2, 2, 1, 2, 2, 2, 1, 1, 2, 1, 1, 2, 2, 1, 1, 1, 2, 2, 2, 1, 1, 2, 2, 2, 2, \n",
      "[1, 2, 2, 1, 0, 0, 2, 2, 2, 0, 1, 2, 2, 1, 2, 2, 0, 0, 1, 0, 1, 1, 2, 2, 1, 0, 1, 2, 0, 2, 1, 1, 2, 0, 0, 0]\n"
     ]
    }
   ],
   "source": [
    "predictions = model.predict(train_dataset_reshape, steps=1)\n",
    "for item in predictions:\n",
    "  print(np.argmax(item), end=', ')\n",
    "print()\n",
    "print(all_image_labels)"
   ]
  },
  {
   "cell_type": "code",
   "execution_count": null,
   "metadata": {},
   "outputs": [],
   "source": []
  }
 ],
 "metadata": {
  "kernelspec": {
   "display_name": "Python 2",
   "language": "python",
   "name": "python2"
  },
  "language_info": {
   "codemirror_mode": {
    "name": "ipython",
    "version": 2
   },
   "file_extension": ".py",
   "mimetype": "text/x-python",
   "name": "python",
   "nbconvert_exporter": "python",
   "pygments_lexer": "ipython2",
   "version": "2.7.10"
  }
 },
 "nbformat": 4,
 "nbformat_minor": 2
}
