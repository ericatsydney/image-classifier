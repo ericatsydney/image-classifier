{
 "cells": [
  {
   "cell_type": "markdown",
   "metadata": {},
   "source": [
    "# 3rd model to train image classifier\n",
    "> using Keras and Tensorflow\n",
    "\n",
    "**Import the libraries and prepare the dataset.**"
   ]
  },
  {
   "cell_type": "code",
   "execution_count": 317,
   "metadata": {},
   "outputs": [
    {
     "name": "stdout",
     "output_type": "stream",
     "text": [
      "1.11.0\n"
     ]
    }
   ],
   "source": [
    "from __future__ import absolute_import, division, print_function\n",
    "\n",
    "# TensorFlow and tf.keras\n",
    "import tensorflow as tf\n",
    "from tensorflow import keras\n",
    "\n",
    "# Helper libraries\n",
    "import numpy as np\n",
    "import matplotlib.pyplot as plt\n",
    "import random\n",
    "# from keras.layers import Conv2D, MaxPooling2D\n",
    "# from keras.layers import Activation, Dropout, Flatten, Dense\n",
    "\n",
    "print(tf.__version__)\n",
    "image_size = 100"
   ]
  },
  {
   "cell_type": "code",
   "execution_count": 318,
   "metadata": {},
   "outputs": [],
   "source": [
    "import os \n",
    "from tensorflow.keras.preprocessing import image\n",
    " \n",
    "import pathlib\n",
    "def getImagePaths(rootPath):\n",
    "  data_root = pathlib.Path(rootPath)\n",
    "  image_paths = list(data_root.glob('*/*'))\n",
    "  image_paths = [str(path) for path in image_paths if not str(path).endswith('DS_Store')]\n",
    "  random.shuffle(image_paths)\n",
    "  return image_paths\n",
    "\n",
    "#image resize -> PIL -> tensorflow \n",
    "def preprocess_image(image):\n",
    "  image = tf.image.decode_jpeg(image, channels=1)\n",
    "  image = tf.image.resize_images(image, [image_size, image_size])\n",
    "  image /= 255.0  # normalize to [0,1] range\n",
    "  return image\n",
    "\n",
    "def load_and_preprocess_image(path):\n",
    "  image = tf.read_file(path)\n",
    "  return preprocess_image(image)\n"
   ]
  },
  {
   "cell_type": "code",
   "execution_count": 319,
   "metadata": {},
   "outputs": [
    {
     "name": "stdout",
     "output_type": "stream",
     "text": [
      "['barramundi', 'bream', 'snapper']\n",
      "{'barramundi': 0, 'snapper': 2, 'bream': 1}\n",
      "4\n"
     ]
    }
   ],
   "source": [
    "# Prepare the train Dataset\n",
    "all_image_paths = getImagePaths('./data/train/')\n",
    "label_names = sorted(item.name for item in data_root.glob('*/') if item.is_dir())\n",
    "print(label_names)\n",
    "label_to_index = dict((name, index) for index,name in enumerate(label_names))\n",
    "print(label_to_index)\n",
    "\n",
    "all_image_labels = [label_to_index[pathlib.Path(path).parent.name] for path in all_image_paths]\n",
    "number_of_images = len(all_image_labels)\n",
    "all_image_array = []\n",
    "for image_path in all_image_paths:\n",
    "  all_image_array.append(load_and_preprocess_image(image_path))\n",
    "\n",
    "all_image_tensor = tf.convert_to_tensor(all_image_array, dtype=tf.float32)\n",
    "train_dataset_reshape = tf.reshape(all_image_tensor, [number_of_images, image_size, image_size, 1])\n",
    "train_dataset_reshape.shape\n",
    "\n",
    "# Prepare the prediction Dataset\n",
    "all_predict_paths = getImagePaths('./data/test/')\n",
    "all_predict_labels = [label_to_index[pathlib.Path(path).parent.name] for path in all_predict_paths]\n",
    "number_of_predict = len(all_predict_labels)\n",
    "all_predict_array = []\n",
    "for predict_path in all_predict_paths:\n",
    "  all_predict_array.append(load_and_preprocess_image(predict_path))\n",
    "\n",
    "all_predict_tensor = tf.convert_to_tensor(all_predict_array, dtype=tf.float32)\n",
    "predict_dataset_reshape = tf.reshape(all_predict_tensor, [number_of_predict, image_size, image_size, 1])\n",
    "predict_dataset_reshape.shape\n",
    "print(number_of_predict)"
   ]
  },
  {
   "cell_type": "code",
   "execution_count": 320,
   "metadata": {},
   "outputs": [],
   "source": [
    "# image_path = all_image_paths[1]\n",
    "# print(image_path)\n",
    "# x = load_and_preprocess_image(image_path)\n",
    "# x.shape\n",
    "# plt.imshow(load_and_preprocess_image(image_path))\n",
    "# plt.grid(False)\n",
    "# plt.show()"
   ]
  },
  {
   "cell_type": "markdown",
   "metadata": {},
   "source": [
    "**Setup the model and train it**"
   ]
  },
  {
   "cell_type": "code",
   "execution_count": 321,
   "metadata": {},
   "outputs": [],
   "source": [
    "# model = keras.Sequential([\n",
    "#     keras.layers.Flatten(input_shape=(image_size, image_size, 1)),\n",
    "#     keras.layers.Dense(64, activation=tf.nn.relu),\n",
    "#     keras.layers.Dense(3, activation=tf.nn.softmax)\n",
    "# ])\n",
    "\n",
    "# layer1\n",
    "model = keras.Sequential()\n",
    "model.add(keras.layers.Conv2D(32, (3, 3), input_shape=(image_size, image_size, 1)))\n",
    "model.add(keras.layers.Activation('relu'))\n",
    "model.add(keras.layers.MaxPooling2D(pool_size=(2, 2)))\n",
    "#layer2\n",
    "model.add(keras.layers.Conv2D(64, (3, 3)))\n",
    "model.add(keras.layers.Activation('relu'))\n",
    "model.add(keras.layers.MaxPooling2D(pool_size=(3, 3)))\n",
    "#layer3\n",
    "model.add(keras.layers.Flatten())\n",
    "model.add(keras.layers.Dense(64))\n",
    "model.add(keras.layers.Activation('relu'))\n",
    "model.add(keras.layers.Dropout(0.5))\n",
    "#layer4\n",
    "model.add(keras.layers.Dense(3))\n",
    "model.add(keras.layers.Activation('sigmoid'))"
   ]
  },
  {
   "cell_type": "code",
   "execution_count": 322,
   "metadata": {},
   "outputs": [],
   "source": [
    "model.compile(optimizer='adam', \n",
    "              loss='sparse_categorical_crossentropy',\n",
    "              metrics=['accuracy'])"
   ]
  },
  {
   "cell_type": "code",
   "execution_count": 323,
   "metadata": {},
   "outputs": [
    {
     "name": "stdout",
     "output_type": "stream",
     "text": [
      "Epoch 1/50\n",
      "1/1 [==============================] - 3s 3s/step - loss: 1.1036 - acc: 0.3333\n",
      "Epoch 2/50\n",
      "1/1 [==============================] - 0s 367ms/step - loss: 1.2138 - acc: 0.3333\n",
      "Epoch 3/50\n",
      "1/1 [==============================] - 0s 355ms/step - loss: 1.1458 - acc: 0.3333\n",
      "Epoch 4/50\n",
      "1/1 [==============================] - 0s 355ms/step - loss: 1.0859 - acc: 0.3889\n",
      "Epoch 5/50\n",
      "1/1 [==============================] - 0s 347ms/step - loss: 1.0814 - acc: 0.4722\n",
      "Epoch 6/50\n",
      "1/1 [==============================] - 0s 355ms/step - loss: 1.0637 - acc: 0.4722\n",
      "Epoch 7/50\n",
      "1/1 [==============================] - 0s 359ms/step - loss: 1.1001 - acc: 0.3056\n",
      "Epoch 8/50\n",
      "1/1 [==============================] - 0s 359ms/step - loss: 1.0643 - acc: 0.4722\n",
      "Epoch 9/50\n",
      "1/1 [==============================] - 0s 362ms/step - loss: 1.0715 - acc: 0.3889\n",
      "Epoch 10/50\n",
      "1/1 [==============================] - 0s 339ms/step - loss: 1.0842 - acc: 0.4167\n",
      "Epoch 11/50\n",
      "1/1 [==============================] - 0s 350ms/step - loss: 1.0565 - acc: 0.3611\n",
      "Epoch 12/50\n",
      "1/1 [==============================] - 0s 358ms/step - loss: 1.0551 - acc: 0.3889\n",
      "Epoch 13/50\n",
      "1/1 [==============================] - 0s 379ms/step - loss: 1.0427 - acc: 0.5278\n",
      "Epoch 14/50\n",
      "1/1 [==============================] - 0s 357ms/step - loss: 1.0184 - acc: 0.5278\n",
      "Epoch 15/50\n",
      "1/1 [==============================] - 0s 469ms/step - loss: 0.9875 - acc: 0.5833\n",
      "Epoch 16/50\n",
      "1/1 [==============================] - 0s 438ms/step - loss: 0.9863 - acc: 0.5556\n",
      "Epoch 17/50\n",
      "1/1 [==============================] - 0s 367ms/step - loss: 0.9352 - acc: 0.6667\n",
      "Epoch 18/50\n",
      "1/1 [==============================] - 0s 375ms/step - loss: 0.9518 - acc: 0.5833\n",
      "Epoch 19/50\n",
      "1/1 [==============================] - 0s 353ms/step - loss: 0.8601 - acc: 0.6667\n",
      "Epoch 20/50\n",
      "1/1 [==============================] - 0s 363ms/step - loss: 0.8732 - acc: 0.5833\n",
      "Epoch 21/50\n",
      "1/1 [==============================] - 0s 359ms/step - loss: 0.8780 - acc: 0.6667\n",
      "Epoch 22/50\n",
      "1/1 [==============================] - 0s 367ms/step - loss: 0.8218 - acc: 0.7222\n",
      "Epoch 23/50\n",
      "1/1 [==============================] - 0s 436ms/step - loss: 0.7316 - acc: 0.6667\n",
      "Epoch 24/50\n",
      "1/1 [==============================] - 0s 458ms/step - loss: 0.8315 - acc: 0.6111\n",
      "Epoch 25/50\n",
      "1/1 [==============================] - 0s 455ms/step - loss: 0.7483 - acc: 0.7778\n",
      "Epoch 26/50\n",
      "1/1 [==============================] - 0s 405ms/step - loss: 0.8121 - acc: 0.6944\n",
      "Epoch 27/50\n",
      "1/1 [==============================] - 0s 364ms/step - loss: 0.6397 - acc: 0.8056\n",
      "Epoch 28/50\n",
      "1/1 [==============================] - 0s 392ms/step - loss: 0.6045 - acc: 0.7778\n",
      "Epoch 29/50\n",
      "1/1 [==============================] - 1s 505ms/step - loss: 0.5947 - acc: 0.8056\n",
      "Epoch 30/50\n",
      "1/1 [==============================] - 0s 477ms/step - loss: 0.5494 - acc: 0.8333\n",
      "Epoch 31/50\n",
      "1/1 [==============================] - 0s 445ms/step - loss: 0.5302 - acc: 0.8333\n",
      "Epoch 32/50\n",
      "1/1 [==============================] - 0s 388ms/step - loss: 0.5169 - acc: 0.8611\n",
      "Epoch 33/50\n",
      "1/1 [==============================] - 0s 373ms/step - loss: 0.6264 - acc: 0.7778\n",
      "Epoch 34/50\n",
      "1/1 [==============================] - 0s 369ms/step - loss: 0.3848 - acc: 0.9167\n",
      "Epoch 35/50\n",
      "1/1 [==============================] - 0s 368ms/step - loss: 0.4876 - acc: 0.8056\n",
      "Epoch 36/50\n",
      "1/1 [==============================] - 0s 369ms/step - loss: 0.4387 - acc: 0.8611\n",
      "Epoch 37/50\n",
      "1/1 [==============================] - 0s 409ms/step - loss: 0.4285 - acc: 0.8889\n",
      "Epoch 38/50\n",
      "1/1 [==============================] - 0s 371ms/step - loss: 0.3772 - acc: 0.9722\n",
      "Epoch 39/50\n",
      "1/1 [==============================] - 0s 375ms/step - loss: 0.3505 - acc: 0.9444\n",
      "Epoch 40/50\n",
      "1/1 [==============================] - 0s 389ms/step - loss: 0.3465 - acc: 0.8611\n",
      "Epoch 41/50\n",
      "1/1 [==============================] - 0s 396ms/step - loss: 0.3052 - acc: 0.9167\n",
      "Epoch 42/50\n",
      "1/1 [==============================] - 1s 576ms/step - loss: 0.4841 - acc: 0.8333\n",
      "Epoch 43/50\n",
      "1/1 [==============================] - 0s 473ms/step - loss: 0.2654 - acc: 0.9444\n",
      "Epoch 44/50\n",
      "1/1 [==============================] - 0s 399ms/step - loss: 0.1090 - acc: 1.0000\n",
      "Epoch 45/50\n",
      "1/1 [==============================] - 0s 425ms/step - loss: 0.2946 - acc: 0.8611\n",
      "Epoch 46/50\n",
      "1/1 [==============================] - 0s 385ms/step - loss: 0.2642 - acc: 0.9167\n",
      "Epoch 47/50\n",
      "1/1 [==============================] - 0s 377ms/step - loss: 0.3043 - acc: 0.9167\n",
      "Epoch 48/50\n",
      "1/1 [==============================] - 0s 395ms/step - loss: 0.3128 - acc: 0.8333\n",
      "Epoch 49/50\n",
      "1/1 [==============================] - 0s 387ms/step - loss: 0.2202 - acc: 0.9444\n",
      "Epoch 50/50\n",
      "1/1 [==============================] - 0s 369ms/step - loss: 0.2921 - acc: 0.9167\n"
     ]
    },
    {
     "data": {
      "text/plain": [
       "<tensorflow.python.keras.callbacks.History at 0x165af04d0>"
      ]
     },
     "execution_count": 323,
     "metadata": {},
     "output_type": "execute_result"
    }
   ],
   "source": [
    "model.fit(train_dataset_reshape, all_image_labels, epochs=50, steps_per_epoch=1)"
   ]
  },
  {
   "cell_type": "markdown",
   "metadata": {},
   "source": [
    "Test the model and make use of that."
   ]
  },
  {
   "cell_type": "code",
   "execution_count": 324,
   "metadata": {},
   "outputs": [
    {
     "name": "stdout",
     "output_type": "stream",
     "text": [
      "1/1 [==============================] - 1s 1s/step\n",
      "Test accuracy: 1.0\n"
     ]
    }
   ],
   "source": [
    "test_loss, test_acc = model.evaluate(train_dataset_reshape, all_image_labels, steps=1)\n",
    "print('Test accuracy:', test_acc)"
   ]
  },
  {
   "cell_type": "code",
   "execution_count": 325,
   "metadata": {},
   "outputs": [
    {
     "name": "stdout",
     "output_type": "stream",
     "text": [
      "2, 1, 1, 2, \n",
      "[0, 1, 1, 2]\n"
     ]
    }
   ],
   "source": [
    "predictions = model.predict(predict_dataset_reshape, steps=1)\n",
    "for item in predictions:\n",
    "  print(np.argmax(item), end=', ')\n",
    "print()\n",
    "print(all_predict_labels)"
   ]
  },
  {
   "cell_type": "code",
   "execution_count": null,
   "metadata": {},
   "outputs": [],
   "source": []
  }
 ],
 "metadata": {
  "kernelspec": {
   "display_name": "Python 2",
   "language": "python",
   "name": "python2"
  },
  "language_info": {
   "codemirror_mode": {
    "name": "ipython",
    "version": 2
   },
   "file_extension": ".py",
   "mimetype": "text/x-python",
   "name": "python",
   "nbconvert_exporter": "python",
   "pygments_lexer": "ipython2",
   "version": "2.7.10"
  }
 },
 "nbformat": 4,
 "nbformat_minor": 2
}
