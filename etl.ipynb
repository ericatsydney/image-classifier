{
 "cells": [
  {
   "cell_type": "markdown",
   "metadata": {},
   "source": [
    "* Data pipeline for the image ETL"
   ]
  },
  {
   "cell_type": "code",
   "execution_count": 1383,
   "metadata": {},
   "outputs": [],
   "source": [
    "from __future__ import absolute_import, division, print_function\n",
    "import numpy as np\n",
    "import tensorflow as tf\n",
    "tf.enable_eager_execution()\n",
    "tf.VERSION\n",
    "AUTOTUNE = tf.contrib.data.AUTOTUNE"
   ]
  },
  {
   "cell_type": "code",
   "execution_count": 1384,
   "metadata": {},
   "outputs": [
    {
     "name": "stdout",
     "output_type": "stream",
     "text": [
      "data/train\n",
      "data/train/barramundi\n",
      "data/train/snapper\n",
      "data/train/bream\n"
     ]
    }
   ],
   "source": [
    "import pathlib\n",
    "data_root = pathlib.Path('./data/train/')\n",
    "print(data_root)\n",
    "for item in data_root.iterdir():\n",
    "  print(item)"
   ]
  },
  {
   "cell_type": "code",
   "execution_count": 1385,
   "metadata": {},
   "outputs": [
    {
     "data": {
      "text/plain": [
       "['data/train/bream/bream3.jpg',\n",
       " 'data/train/bream/bream4.jpeg',\n",
       " 'data/train/snapper/snapper4.jpeg',\n",
       " 'data/train/snapper/Snapper-Medium-Whole.jpg',\n",
       " 'data/train/snapper/Snapper6.jpg',\n",
       " 'data/train/snapper/snapper3-660x400.jpg',\n",
       " 'data/train/barramundi/Barramundi5.jpg',\n",
       " 'data/train/barramundi/Barramundi-Medium.jpg',\n",
       " 'data/train/snapper/snapper1.jpeg',\n",
       " 'data/train/snapper/bream1.png']"
      ]
     },
     "execution_count": 1385,
     "metadata": {},
     "output_type": "execute_result"
    }
   ],
   "source": [
    "import random\n",
    "all_image_paths = list(data_root.glob('*/*'))\n",
    "all_image_paths = [str(path) for path in all_image_paths]\n",
    "random.shuffle(all_image_paths)\n",
    "\n",
    "image_count = len(all_image_paths)\n",
    "image_count\n",
    "all_image_paths[:10]"
   ]
  },
  {
   "cell_type": "code",
   "execution_count": 1386,
   "metadata": {},
   "outputs": [
    {
     "data": {
      "text/plain": [
       "['barramundi', 'bream', 'snapper']"
      ]
     },
     "execution_count": 1386,
     "metadata": {},
     "output_type": "execute_result"
    }
   ],
   "source": [
    "label_names = sorted(item.name for item in data_root.glob('*/') if item.is_dir())\n",
    "label_names"
   ]
  },
  {
   "cell_type": "code",
   "execution_count": 1387,
   "metadata": {},
   "outputs": [
    {
     "data": {
      "text/plain": [
       "{'barramundi': 0, 'bream': 1, 'snapper': 2}"
      ]
     },
     "execution_count": 1387,
     "metadata": {},
     "output_type": "execute_result"
    }
   ],
   "source": [
    "label_to_index = dict((name, index) for index,name in enumerate(label_names))\n",
    "label_to_index"
   ]
  },
  {
   "cell_type": "code",
   "execution_count": 1388,
   "metadata": {},
   "outputs": [
    {
     "name": "stdout",
     "output_type": "stream",
     "text": [
      "First 10 labels indices:  [1, 1, 2, 2, 2, 2]\n"
     ]
    }
   ],
   "source": [
    "all_image_labels = [label_to_index[pathlib.Path(path).parent.name]\n",
    "                    for path in all_image_paths]\n",
    "\n",
    "print(\"First 10 labels indices: \", all_image_labels[:6])"
   ]
  },
  {
   "cell_type": "code",
   "execution_count": 1389,
   "metadata": {},
   "outputs": [],
   "source": [
    "# import IPython.display as display\n",
    "# for n in range(2):\n",
    "#   image_path = random.choice(all_image_paths)\n",
    "#   display.display(display.Image(image_path))\n",
    "# #   print(caption_image(image_path))\n",
    "#   print()"
   ]
  },
  {
   "cell_type": "markdown",
   "metadata": {},
   "source": [
    "The preprocessing include a resize action. Currently we are using squash method - ignore the ration and turn it to square. Please check [this article](https://forums.fast.ai/t/impact-of-image-resizing-on-model-training-time-and-performance/1980) to see the comparison amoung the different methods of resizing"
   ]
  },
  {
   "cell_type": "code",
   "execution_count": 1390,
   "metadata": {},
   "outputs": [],
   "source": [
    "def preprocess_image(image):\n",
    "  image = tf.image.decode_jpeg(image, channels=3)\n",
    "  image = tf.image.resize_images(image, [128, 128])\n",
    "  image /= 255.0  # normalize to [0,1] range\n",
    "\n",
    "  return image"
   ]
  },
  {
   "cell_type": "code",
   "execution_count": 1391,
   "metadata": {},
   "outputs": [],
   "source": [
    "def load_and_preprocess_image(path):\n",
    "  image = tf.read_file(path)\n",
    "  return preprocess_image(image)"
   ]
  },
  {
   "cell_type": "markdown",
   "metadata": {},
   "source": [
    "Take a look what happen after the image processing."
   ]
  },
  {
   "cell_type": "code",
   "execution_count": 1392,
   "metadata": {},
   "outputs": [],
   "source": [
    "# import matplotlib.pyplot as plt\n",
    "\n",
    "# image_path = all_image_paths[1]\n",
    "# label = all_image_labels[1]\n",
    "\n",
    "# load_and_preprocess_image(image_path)\n",
    "\n",
    "# plt.imshow(load_and_preprocess_image(image_path))\n",
    "# plt.grid(False)\n",
    "# plt.title(label_names[label].title())\n",
    "# plt.show()"
   ]
  },
  {
   "cell_type": "markdown",
   "metadata": {},
   "source": [
    "Start preparing the dataset"
   ]
  },
  {
   "cell_type": "code",
   "execution_count": 1393,
   "metadata": {},
   "outputs": [],
   "source": [
    "path_ds = tf.data.Dataset.from_tensor_slices(all_image_paths)"
   ]
  },
  {
   "cell_type": "code",
   "execution_count": 1394,
   "metadata": {},
   "outputs": [],
   "source": [
    "# image_ds = all_image_paths.map(load_and_preprocess_image, num_parallel_calls=AUTOTUNE)\n",
    "# image_ds\n",
    "# label_ds = tf.data.Dataset.from_tensor_slices(tf.cast(all_image_labels, tf.int64))\n",
    "# label_ds"
   ]
  },
  {
   "cell_type": "code",
   "execution_count": 1395,
   "metadata": {},
   "outputs": [],
   "source": [
    "# for label in label_ds.take(10):\n",
    "#   print(label_names[label.numpy()])"
   ]
  },
  {
   "cell_type": "code",
   "execution_count": 1396,
   "metadata": {},
   "outputs": [],
   "source": [
    "# image_label_ds = tf.data.Dataset.zip((image_ds, label_ds))"
   ]
  },
  {
   "cell_type": "code",
   "execution_count": 1397,
   "metadata": {},
   "outputs": [],
   "source": [
    "train_images = []\n",
    "train_labels = []\n",
    "for image_path in all_image_paths:\n",
    "    train_images.append(load_and_preprocess_image(image_path))\n",
    "for label_item in tf.cast(all_image_labels, tf.int64):\n",
    "    train_labels.append(label_item)\n",
    "ds=tf.data.Dataset.from_tensor_slices((train_images, train_labels)).batch(2).repeat()\n",
    "    "
   ]
  },
  {
   "cell_type": "markdown",
   "metadata": {},
   "source": [
    "Now Make the model ready"
   ]
  },
  {
   "cell_type": "code",
   "execution_count": 1398,
   "metadata": {},
   "outputs": [],
   "source": [
    "# BATCH_SIZE = 32\n",
    "\n",
    "# # Setting a shuffle buffer size as large as the dataset ensures that the data is\n",
    "# # completely shuffled.\n",
    "# ds = image_label_ds.shuffle(buffer_size=image_count)\n",
    "# ds = ds.repeat()\n",
    "# ds = ds.batch(BATCH_SIZE)\n",
    "# # `prefetch` lets the dataset fetch batches, in the background while the model is training.\n",
    "# ds = ds.prefetch(buffer_size=AUTOTUNE)\n",
    "# ds"
   ]
  },
  {
   "cell_type": "code",
   "execution_count": 1399,
   "metadata": {},
   "outputs": [],
   "source": [
    "from tensorflow import keras\n",
    "# import keras.layers.Conv2D as Conv2D\n",
    "# model = keras.Sequential([\n",
    "#     keras.layers.Flatten(input_shape=(32, 32, 3)),\n",
    "#     keras.layers.Dense(128, activation=tf.nn.relu),\n",
    "#     keras.layers.Dense(3, activation=tf.nn.softmax)\n",
    "# ])\n",
    "\n",
    "IMG_SIZE = 32\n",
    "model = keras.Sequential()\n",
    "model.add(keras.layers.Conv2D(32, kernel_size = (3, 3), activation='relu', input_shape=(128, 128, 3)))\n",
    "model.add(keras.layers.MaxPooling2D(pool_size=(2,2)))\n",
    "model.add(keras.layers.BatchNormalization())\n",
    "model.add(keras.layers.Conv2D(64, kernel_size=(3,3), activation='relu'))\n",
    "model.add(keras.layers.MaxPooling2D(pool_size=(2,2)))\n",
    "model.add(keras.layers.BatchNormalization())\n",
    "model.add(keras.layers.Conv2D(64, kernel_size=(3,3), activation='relu'))\n",
    "model.add(keras.layers.MaxPooling2D(pool_size=(2,2)))\n",
    "model.add(keras.layers.BatchNormalization())\n",
    "model.add(keras.layers.Conv2D(96, kernel_size=(3,3), activation='relu'))\n",
    "model.add(keras.layers.MaxPooling2D(pool_size=(2,2)))\n",
    "model.add(keras.layers.BatchNormalization())\n",
    "model.add(keras.layers.Conv2D(32, kernel_size=(3,3), activation='relu'))\n",
    "model.add(keras.layers.MaxPooling2D(pool_size=(2,2)))\n",
    "model.add(keras.layers.BatchNormalization())\n",
    "model.add(keras.layers.Dropout(0.2))\n",
    "model.add(keras.layers.Flatten())\n",
    "model.add(keras.layers.Dense(128, activation='relu'))\n",
    "model.add(keras.layers.Dropout(0.3))\n",
    "model.add(keras.layers.Dense(3, activation = 'softmax'))"
   ]
  },
  {
   "cell_type": "code",
   "execution_count": 1400,
   "metadata": {},
   "outputs": [],
   "source": [
    "model.compile(optimizer=tf.train.AdamOptimizer(), \n",
    "              loss=tf.keras.losses.sparse_categorical_crossentropy,\n",
    "              metrics=[\"accuracy\"])"
   ]
  },
  {
   "cell_type": "code",
   "execution_count": 1401,
   "metadata": {},
   "outputs": [
    {
     "name": "stdout",
     "output_type": "stream",
     "text": [
      "Epoch 1/50\n",
      "1/1 [==============================] - 0s 149ms/step - loss: 0.5644 - acc: 1.0000\n",
      "Epoch 2/50\n",
      "1/1 [==============================] - 0s 91ms/step - loss: 1.3718 - acc: 0.5000\n",
      "Epoch 3/50\n",
      "1/1 [==============================] - 0s 77ms/step - loss: 1.2827 - acc: 0.5000\n",
      "Epoch 4/50\n",
      "1/1 [==============================] - 0s 82ms/step - loss: 1.2796 - acc: 0.5000\n",
      "Epoch 5/50\n",
      "1/1 [==============================] - 0s 83ms/step - loss: 1.1272 - acc: 0.0000e+00\n",
      "Epoch 6/50\n",
      "1/1 [==============================] - 0s 84ms/step - loss: 0.8807 - acc: 0.5000\n",
      "Epoch 7/50\n",
      "1/1 [==============================] - 0s 92ms/step - loss: 1.1675 - acc: 0.5000\n",
      "Epoch 8/50\n",
      "1/1 [==============================] - 0s 82ms/step - loss: 1.7566 - acc: 0.5000\n",
      "Epoch 9/50\n",
      "1/1 [==============================] - 0s 81ms/step - loss: 1.4007 - acc: 0.0000e+00\n",
      "Epoch 10/50\n",
      "1/1 [==============================] - 0s 81ms/step - loss: 4.3247 - acc: 0.0000e+00\n",
      "Epoch 11/50\n",
      "1/1 [==============================] - 0s 81ms/step - loss: 3.0513 - acc: 0.0000e+00\n",
      "Epoch 12/50\n",
      "1/1 [==============================] - 0s 95ms/step - loss: 1.7775 - acc: 1.0000\n",
      "Epoch 13/50\n",
      "1/1 [==============================] - 0s 84ms/step - loss: 3.2579 - acc: 0.0000e+00\n",
      "Epoch 14/50\n",
      "1/1 [==============================] - 0s 83ms/step - loss: 0.7674 - acc: 0.0000e+00\n",
      "Epoch 15/50\n",
      "1/1 [==============================] - 0s 83ms/step - loss: 1.4556 - acc: 0.0000e+00\n",
      "Epoch 16/50\n",
      "1/1 [==============================] - 0s 86ms/step - loss: 0.8160 - acc: 0.0000e+00\n",
      "Epoch 17/50\n",
      "1/1 [==============================] - 0s 89ms/step - loss: 1.1793 - acc: 0.5000\n",
      "Epoch 18/50\n",
      "1/1 [==============================] - 0s 89ms/step - loss: 1.3368 - acc: 0.5000\n",
      "Epoch 19/50\n",
      "1/1 [==============================] - 0s 87ms/step - loss: 1.9491 - acc: 0.0000e+00\n",
      "Epoch 20/50\n",
      "1/1 [==============================] - 0s 85ms/step - loss: 2.0928 - acc: 0.5000\n",
      "Epoch 21/50\n",
      "1/1 [==============================] - 0s 84ms/step - loss: 0.9105 - acc: 0.5000\n",
      "Epoch 22/50\n",
      "1/1 [==============================] - 0s 83ms/step - loss: 0.3721 - acc: 0.5000\n",
      "Epoch 23/50\n",
      "1/1 [==============================] - 0s 84ms/step - loss: 0.4803 - acc: 1.0000\n",
      "Epoch 24/50\n",
      "1/1 [==============================] - 0s 88ms/step - loss: 0.7967 - acc: 1.0000\n",
      "Epoch 25/50\n",
      "1/1 [==============================] - 0s 104ms/step - loss: 0.9279 - acc: 0.5000\n",
      "Epoch 26/50\n",
      "1/1 [==============================] - 0s 106ms/step - loss: 0.1552 - acc: 1.0000\n",
      "Epoch 27/50\n",
      "1/1 [==============================] - 0s 103ms/step - loss: 1.1010 - acc: 0.5000\n",
      "Epoch 28/50\n",
      "1/1 [==============================] - 0s 102ms/step - loss: 0.8977 - acc: 0.5000\n",
      "Epoch 29/50\n",
      "1/1 [==============================] - 0s 79ms/step - loss: 1.4163 - acc: 1.0000\n",
      "Epoch 30/50\n",
      "1/1 [==============================] - 0s 85ms/step - loss: 0.9332 - acc: 0.5000\n",
      "Epoch 31/50\n",
      "1/1 [==============================] - 0s 84ms/step - loss: 0.3636 - acc: 0.5000\n",
      "Epoch 32/50\n",
      "1/1 [==============================] - 0s 84ms/step - loss: 0.2896 - acc: 0.5000\n",
      "Epoch 33/50\n",
      "1/1 [==============================] - 0s 87ms/step - loss: 1.0283 - acc: 0.0000e+00\n",
      "Epoch 34/50\n",
      "1/1 [==============================] - 0s 89ms/step - loss: 0.2382 - acc: 0.5000\n",
      "Epoch 35/50\n",
      "1/1 [==============================] - 0s 93ms/step - loss: 2.4839 - acc: 0.0000e+00\n",
      "Epoch 36/50\n",
      "1/1 [==============================] - 0s 93ms/step - loss: 0.1891 - acc: 0.5000\n",
      "Epoch 37/50\n",
      "1/1 [==============================] - 0s 80ms/step - loss: 0.3314 - acc: 0.5000\n",
      "Epoch 38/50\n",
      "1/1 [==============================] - 0s 87ms/step - loss: 0.7915 - acc: 0.5000\n",
      "Epoch 39/50\n",
      "1/1 [==============================] - 0s 86ms/step - loss: 0.0769 - acc: 0.5000\n",
      "Epoch 40/50\n",
      "1/1 [==============================] - 0s 105ms/step - loss: 0.1777 - acc: 0.5000\n",
      "Epoch 41/50\n",
      "1/1 [==============================] - 0s 101ms/step - loss: 0.9191 - acc: 0.5000\n",
      "Epoch 42/50\n",
      "1/1 [==============================] - 0s 97ms/step - loss: 0.0233 - acc: 1.0000\n",
      "Epoch 43/50\n",
      "1/1 [==============================] - 0s 90ms/step - loss: 0.0637 - acc: 1.0000\n",
      "Epoch 44/50\n",
      "1/1 [==============================] - 0s 87ms/step - loss: 1.0089 - acc: 0.5000\n",
      "Epoch 45/50\n",
      "1/1 [==============================] - 0s 89ms/step - loss: 0.4451 - acc: 0.5000\n",
      "Epoch 46/50\n",
      "1/1 [==============================] - 0s 87ms/step - loss: 0.0862 - acc: 1.0000\n",
      "Epoch 47/50\n",
      "1/1 [==============================] - 0s 90ms/step - loss: 0.4800 - acc: 0.5000\n",
      "Epoch 48/50\n",
      "1/1 [==============================] - 0s 88ms/step - loss: 0.5681 - acc: 0.5000\n",
      "Epoch 49/50\n",
      "1/1 [==============================] - 0s 95ms/step - loss: 0.2144 - acc: 0.5000\n",
      "Epoch 50/50\n",
      "1/1 [==============================] - 0s 103ms/step - loss: 0.7126 - acc: 0.5000\n"
     ]
    },
    {
     "data": {
      "text/plain": [
       "<tensorflow.python.keras.callbacks.History at 0x1256ee450>"
      ]
     },
     "execution_count": 1401,
     "metadata": {},
     "output_type": "execute_result"
    }
   ],
   "source": [
    "model.fit(ds, epochs=50, steps_per_epoch=1)"
   ]
  },
  {
   "cell_type": "code",
   "execution_count": 1402,
   "metadata": {},
   "outputs": [
    {
     "name": "stdout",
     "output_type": "stream",
     "text": [
      "1/1 [==============================] - 0s 34ms/step\n",
      "Test loss: 0.9597550630569458\n",
      "Test accuracy: 1.0\n"
     ]
    }
   ],
   "source": [
    "test_loss, test_acc = model.evaluate(ds, steps=1)\n",
    "print('Test loss:', test_loss)\n",
    "print('Test accuracy:', test_acc)"
   ]
  },
  {
   "cell_type": "code",
   "execution_count": null,
   "metadata": {},
   "outputs": [],
   "source": []
  }
 ],
 "metadata": {
  "kernelspec": {
   "display_name": "Python 2",
   "language": "python",
   "name": "python2"
  },
  "language_info": {
   "codemirror_mode": {
    "name": "ipython",
    "version": 2
   },
   "file_extension": ".py",
   "mimetype": "text/x-python",
   "name": "python",
   "nbconvert_exporter": "python",
   "pygments_lexer": "ipython2",
   "version": "2.7.10"
  }
 },
 "nbformat": 4,
 "nbformat_minor": 2
}
